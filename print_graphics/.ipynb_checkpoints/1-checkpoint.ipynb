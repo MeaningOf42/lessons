{
 "cells": [
  {
   "cell_type": "markdown",
   "metadata": {
    "collapsed": true
   },
   "source": [
    "In this lesson, I will show you how to (poorly) recreate visual basics \"printrect\" functionality by using print() to print #s. We'll start of by just drawing lines, but we'll go onto draw some more complex things, such as graphing functions, and combing shapes to draw stick men. Let's get started.\n",
    "\n",
    "In order to draw a line, we only need one deminsion, but our screen has two easy dimensions we can use: vertical or horizontal. We could use a line going in any direction to be the dimension we'll draw the line in such as one at 45 degrees away from horizontal, but that would be pretty pointless and would make things more difficult to code. I am however going to write code to draw both horizontal and vertical lines, as this will make understanding code in two dimmensions much easier.\n",
    "\n",
    "Let's create a function to create a vertical line. The first thing to do when creating a function is to decide what parameters (variables that a function takes) the function should take. In order to draw a line in one dimmension, we need to know how long to draw it, and where to start drawing it or its position. We'll say the first line of the output is position 0, then will use a for loop to print empty lines untill we reach the position at which the line is mean't to start then we'lluse another for loop to print enough lines with a sigle \"#\" on them to make the line as long as we want it. I've included the code I wrote, but I recommend you try to write this function yourself before looking at it (This is the case with all the examples I include so I won't bother mentioning it in each case)."
   ]
  },
  {
   "cell_type": "code",
   "execution_count": 19,
   "metadata": {
    "collapsed": true
   },
   "outputs": [],
   "source": [
    "def vertical_line(pos, line_len):\n",
    "    for i in range(pos):\n",
    "        print()\n",
    "    for i in range(line_len):\n",
    "        print(\"#\")"
   ]
  },
  {
   "cell_type": "markdown",
   "metadata": {},
   "source": [
    "Here's an example of what happens when you run it:"
   ]
  },
  {
   "cell_type": "code",
   "execution_count": 20,
   "metadata": {},
   "outputs": [
    {
     "name": "stdout",
     "output_type": "stream",
     "text": [
      "\n",
      "\n",
      "\n",
      "\n",
      "\n",
      "\n",
      "\n",
      "\n",
      "\n",
      "\n",
      "#\n",
      "#\n",
      "#\n",
      "#\n",
      "#\n",
      "#\n",
      "#\n",
      "#\n",
      "#\n",
      "#\n"
     ]
    }
   ],
   "source": [
    "vertical_line(10, 10)"
   ]
  },
  {
   "cell_type": "markdown",
   "metadata": {},
   "source": [
    "As you can see it prints 10 empte lines, then 10 lines with # on them, just how we intended.\n",
    "\n",
    "Now let's create a function to print lines horizontally. It will take the same parameters as before, and function almost identacly, but it will print horizontally instead of vertacally. There's no easy way to print once and then tell python to print again but carry on printing on the same line. That means we're going to have to collect all of our output first, then print it once. To do this we'll keep a string variable called line, and add anything we want to output to the line variable using the += operator. In a similar manner to how the vertical print option worked, first we'll use a for loop to add as many spaces as required by the position parameter, then we'll use another loop to add as many #s to the line variable as required by the length parameter. Once we've finnished creating the line variable, we can print it out with a single print statement: (This code is really similar to the last piece of code so it shouldn't be too hard to write for yourself)"
   ]
  },
  {
   "cell_type": "code",
   "execution_count": 21,
   "metadata": {
    "collapsed": true
   },
   "outputs": [],
   "source": [
    "def horizontal_line(pos, line_len):\n",
    "    line = \"\" #creates the variable line as an empty string\n",
    "    for i in range(pos): # This for loop adds pos spaces to the string.\n",
    "        line += \" \"\n",
    "    for i in range(line_len):  # This for loop adds line_len #s to the string\n",
    "        line += \"#\"\n",
    "    \n",
    "    print(line) #This line of code prints the string we've created\n",
    "    "
   ]
  },
  {
   "cell_type": "markdown",
   "metadata": {},
   "source": [
    "Here's an example that runs the code:"
   ]
  },
  {
   "cell_type": "code",
   "execution_count": 23,
   "metadata": {},
   "outputs": [
    {
     "name": "stdout",
     "output_type": "stream",
     "text": [
      "  ###\n"
     ]
    }
   ],
   "source": [
    "horizontal_line(2, 3)"
   ]
  },
  {
   "cell_type": "markdown",
   "metadata": {},
   "source": [
    "If you can count the number of spaces in the line of output by selecting them, if you do this you'll notice there are indeed two lines of output as we'd expect.\n",
    "\n",
    "\n",
    "# Combining Lines #\n",
    "\n",
    "What if instead of merely printing single lines we wanted to print two line's together, or the interstection of two line, or even two lines exept where they intersect? (I know the thought gets your blood going doesn't it) If you went on the street and asked a random person to draw the intersection between two lines they'd probably give you a wierd look, or go on about how \"I have better things to do with my time\", or \"You don't even know me\" (not that I'm speaking from experience or anything). However if hypothetically you kindnapped an unwilling participant, and then forced them to draw the intersection of two line's they'd probably (I say probably, as this is completly hyperthetical), draw two different lines and close to eachother and see where they overlap then draw a third line that's their intersect:\n",
    "\n",
    "First line  : ________\n",
    "second line :     ________\n",
    "                  ^  ^\n",
    "                  |  |\n",
    "              we can se the lines here.\n",
    "\n",
    "Unfortunatly though we cannot tell a computer to \"just print out the lines then __see__ where the line's overlap\", computers don't work like that. Instead let's store the output of each line in seperate variable, then use a function to combine the variables. What type of variable should we store the output of the line in? We can think of the axis on which we'll draw the line as a collection of points that are either drawn or not drawn. As we need to record a collection of things, namely points, we'll use a list. As we'll consider that any point on the line must be in one of two state, drawn or not drawn (we're not considering semi-drawn lines or different colors or anything), we can store the state of any point as a boolean variable, or a 1 or a 0. This works because latter on when we come across a 1, we'll know to \"draw\" a # and when we come across a 0 we'll know to draw a space. By storing the value of a point as 1 or a 0, we use up the least possible ammount of memory required. We will save the points on an axis as a list of boolean variables.\n",
    "\n",
    "This is becoming a bit abstract so let's write some code. We'll create functions that take a list of boolean variables and print it out on either a horizontal or vertical axis. First let's create a function to print a list of booleans vertacally. To create our function we have to ask ourselves 3 things: What should we call the function? (Easy, but make sure to keep it descriptive whilst not containing any special characters or spaces.) What parameters should the function take? What should the function do with the parameters it's given. If you can answer all three of those questions then you can code the function (given you know enough syntax). Try answering those questions for yourself and coding a function that could take any list of booleans vertacally. I've included an example but your code should work with any list of booleans."
   ]
  },
  {
   "cell_type": "code",
   "execution_count": 24,
   "metadata": {
    "collapsed": true
   },
   "outputs": [],
   "source": [
    "example = [1, 0, 1, 0, 0, 1, 1]"
   ]
  },
  {
   "cell_type": "markdown",
   "metadata": {},
   "source": [
    "Did you manage? If not here are some hints:\n",
    "\n",
    "1. You can loop through each item in the list with a for loop. (Google the syntax if you don't remeber)\n",
    "\n",
    "2. If you use an if else statement with a boolean variable, if the boolean is 1 or True then the if statement will run but if the boolean is 0 or false the else statement will run.\n",
    "\n",
    "3. If an item of the list is a 0 you want to print an empty line with print(), if the item is a 1 you want to print a line with a # on it with print(\"#\")"
   ]
  }
 ],
 "metadata": {
  "kernelspec": {
   "display_name": "Python 3",
   "language": "python",
   "name": "python3"
  },
  "language_info": {
   "codemirror_mode": {
    "name": "ipython",
    "version": 3
   },
   "file_extension": ".py",
   "mimetype": "text/x-python",
   "name": "python",
   "nbconvert_exporter": "python",
   "pygments_lexer": "ipython3",
   "version": "3.5.2"
  }
 },
 "nbformat": 4,
 "nbformat_minor": 2
}
